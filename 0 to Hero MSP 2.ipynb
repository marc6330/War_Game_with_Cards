{
 "cells": [
  {
   "cell_type": "code",
   "execution_count": 988,
   "metadata": {
    "collapsed": true
   },
   "outputs": [],
   "source": [
    "import numpy as np\n",
    "import pandas as pd\n",
    "import random"
   ]
  },
  {
   "cell_type": "markdown",
   "source": [
    "Create Card Classes for War Game\n"
   ],
   "metadata": {
    "collapsed": false,
    "pycharm": {
     "name": "#%% md\n"
    }
   }
  },
  {
   "cell_type": "markdown",
   "source": [
    "Global Objects"
   ],
   "metadata": {
    "collapsed": false,
    "pycharm": {
     "name": "#%% md\n"
    }
   }
  },
  {
   "cell_type": "code",
   "execution_count": 989,
   "outputs": [],
   "source": [
    "suits = ('Hearts', 'Diamonds', 'Spades', 'Clubs')\n",
    "ranks = ('Two', 'Three', 'Four', 'Five', 'Six', 'Seven', 'Eight', 'Nine', 'Ten', 'Jack', 'Queen', 'King', 'Ace')\n",
    "\n",
    "values = {'Two': 2, 'Three': 3, 'Four': 4, 'Five':5, 'Six':6, 'Seven': 7, 'Eight': 8, 'Nine':9, 'Ten':10, 'Jack': 11, 'Queen': 12, 'King': 13, 'Ace':14}"
   ],
   "metadata": {
    "collapsed": false,
    "pycharm": {
     "name": "#%%\n"
    }
   }
  },
  {
   "cell_type": "code",
   "execution_count": 990,
   "outputs": [],
   "source": [
    "class Card:\n",
    "\n",
    "    def __init__(self,suit,rank):\n",
    "        self.suit = suit\n",
    "        self.rank = rank\n",
    "        self.value = values[rank]\n",
    "\n",
    "    def __str__(self):\n",
    "        return self.rank + \" of \" + self.suit"
   ],
   "metadata": {
    "collapsed": false,
    "pycharm": {
     "name": "#%%\n"
    }
   }
  },
  {
   "cell_type": "code",
   "execution_count": 991,
   "outputs": [],
   "source": [
    "class Deck:\n",
    "    def __init__(self):\n",
    "\n",
    "        self.all_cards = []\n",
    "\n",
    "        for suit in suits:\n",
    "            for rank in ranks:\n",
    "                #Create the card object\n",
    "                created_card =  Card(suit,rank)\n",
    "\n",
    "                self.all_cards.append(created_card)\n",
    "\n",
    "    def shuffle(self):\n",
    "        random.shuffle(self.all_cards)\n",
    "\n",
    "    def deal_one(self):\n",
    "        return self.all_cards.pop()\n",
    "\n"
   ],
   "metadata": {
    "collapsed": false,
    "pycharm": {
     "name": "#%%\n"
    }
   }
  },
  {
   "cell_type": "code",
   "execution_count": 992,
   "outputs": [],
   "source": [
    "class Player:\n",
    "\n",
    "    def __init__(self,name):\n",
    "        self.name = name\n",
    "        self.all_cards = []\n",
    "\n",
    "    def remove_one(self):\n",
    "        return self.all_cards.pop(0)\n",
    "\n",
    "    def add_cards(self,new_cards):\n",
    "        if type(new_cards) == type([]):\n",
    "            self.all_cards.extend(new_cards)\n",
    "        else: self.all_cards.append(new_cards)\n",
    "\n",
    "    def __str__(self):\n",
    "        return f'Player {self.name} has {len(self.all_cards)} cards.'"
   ],
   "metadata": {
    "collapsed": false,
    "pycharm": {
     "name": "#%%\n"
    }
   }
  },
  {
   "cell_type": "markdown",
   "source": [
    "Write Game"
   ],
   "metadata": {
    "collapsed": false,
    "pycharm": {
     "name": "#%% md\n"
    }
   }
  },
  {
   "cell_type": "code",
   "execution_count": 993,
   "outputs": [],
   "source": [
    "player_one = Player('One')\n",
    "player_two = Player('Two')"
   ],
   "metadata": {
    "collapsed": false,
    "pycharm": {
     "name": "#%%\n"
    }
   }
  },
  {
   "cell_type": "code",
   "execution_count": 994,
   "outputs": [],
   "source": [
    "new_deck = Deck()\n",
    "new_deck.shuffle()\n",
    "\n"
   ],
   "metadata": {
    "collapsed": false,
    "pycharm": {
     "name": "#%%\n"
    }
   }
  },
  {
   "cell_type": "code",
   "execution_count": 995,
   "outputs": [],
   "source": [
    "for x in range(26):\n",
    "    player_one.add_cards(new_deck.deal_one())\n",
    "    player_two.add_cards(new_deck.deal_one())"
   ],
   "metadata": {
    "collapsed": false,
    "pycharm": {
     "name": "#%%\n"
    }
   }
  },
  {
   "cell_type": "code",
   "execution_count": 996,
   "outputs": [
    {
     "name": "stdout",
     "output_type": "stream",
     "text": [
      "King of Clubs\n"
     ]
    }
   ],
   "source": [
    "print(player_one.all_cards[0])"
   ],
   "metadata": {
    "collapsed": false,
    "pycharm": {
     "name": "#%%\n"
    }
   }
  },
  {
   "cell_type": "code",
   "execution_count": 997,
   "outputs": [],
   "source": [
    "game_on = True"
   ],
   "metadata": {
    "collapsed": false,
    "pycharm": {
     "name": "#%%\n"
    }
   }
  },
  {
   "cell_type": "code",
   "execution_count": 997,
   "outputs": [],
   "source": [],
   "metadata": {
    "collapsed": false,
    "pycharm": {
     "name": "#%%\n"
    }
   }
  },
  {
   "cell_type": "code",
   "execution_count": 998,
   "outputs": [
    {
     "name": "stdout",
     "output_type": "stream",
     "text": [
      "Round 1\n",
      "True\n",
      "Round 2\n",
      "False\n",
      "Round 3\n",
      "True\n",
      "Round 4\n",
      "False\n",
      "WAR\n",
      "False\n",
      "WAR\n",
      "False\n",
      "WAR\n",
      "False\n",
      "WAR\n",
      "False\n",
      "WAR\n",
      "False\n",
      "WAR\n",
      "False\n",
      "WAR\n",
      "Player one out of Cards. Player two wins\n"
     ]
    }
   ],
   "source": [
    "round_num = 0\n",
    "while game_on:\n",
    "\n",
    "    round_num += 1\n",
    "    print(f'Round {round_num}')\n",
    "\n",
    "\n",
    "    if len(player_one.all_cards) < 20:\n",
    "        print('Player one, out of Cards. Player two wins')\n",
    "        game_on = False\n",
    "        break\n",
    "    if len(player_two.all_cards) < 20:\n",
    "        print('Player two, out of Cards. Player one wins')\n",
    "        game_on = False\n",
    "        break\n",
    "\n",
    "    player_one_cards = []\n",
    "    player_one_cards.append(player_one.remove_one())\n",
    "\n",
    "    player_two_cards = []\n",
    "    player_two_cards.append(player_two.remove_one())\n",
    "\n",
    "    at_war = True\n",
    "    while at_war:\n",
    "        if len(player_one.all_cards) <= 5:\n",
    "            print('Player one out of Cards. Player two wins')\n",
    "            game_on = False\n",
    "            break\n",
    "        elif len(player_two.all_cards) <= 5:\n",
    "            print('Player two out of Cards. Player one wins')\n",
    "            game_on = False\n",
    "            break\n",
    "\n",
    "        print(player_one_cards[0].value > player_two_cards[0].value)\n",
    "\n",
    "        if player_one_cards[0].value == player_two_cards[0].value:\n",
    "            print('WAR')\n",
    "            for x in range(3): #range three as three have to be put away and the fourth one has to be checked\n",
    "                player_one_cards.append(player_one.remove_one())\n",
    "                player_two_cards.append(player_two.remove_one())\n",
    "        elif player_one_cards[0].value != player_two_cards[0].value:\n",
    "            break\n",
    "\n",
    "\n",
    "    if player_one_cards[0].value > player_two_cards[0].value:\n",
    "        player_one.add_cards(player_two_cards)\n",
    "        player_one.add_cards(player_one_cards)\n",
    "\n",
    "\n",
    "    elif player_one_cards[0].value < player_two_cards[0].value:\n",
    "        player_two.add_cards(player_two_cards)\n",
    "        player_two.add_cards(player_one_cards)\n",
    "\n",
    "\n"
   ],
   "metadata": {
    "collapsed": false,
    "pycharm": {
     "name": "#%%\n"
    }
   }
  }
 ],
 "metadata": {
  "kernelspec": {
   "display_name": "Python 3",
   "language": "python",
   "name": "python3"
  },
  "language_info": {
   "codemirror_mode": {
    "name": "ipython",
    "version": 2
   },
   "file_extension": ".py",
   "mimetype": "text/x-python",
   "name": "python",
   "nbconvert_exporter": "python",
   "pygments_lexer": "ipython2",
   "version": "2.7.6"
  }
 },
 "nbformat": 4,
 "nbformat_minor": 0
}